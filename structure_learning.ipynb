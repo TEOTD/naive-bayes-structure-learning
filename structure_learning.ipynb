{
 "cells": [
  {
   "metadata": {
    "ExecuteTime": {
     "end_time": "2025-05-10T20:14:19.469044Z",
     "start_time": "2025-05-10T20:14:18.423488Z"
    }
   },
   "cell_type": "code",
   "source": [
    "import pandas as pd\n",
    "import numpy as np"
   ],
   "id": "f34bae6295ba51ad",
   "outputs": [],
   "execution_count": 1
  },
  {
   "metadata": {
    "ExecuteTime": {
     "end_time": "2025-05-10T20:14:19.510127Z",
     "start_time": "2025-05-10T20:14:19.502430Z"
    }
   },
   "cell_type": "code",
   "source": [
    "def encode_data(df):\n",
    "    encoded = df.copy()\n",
    "    for col in df.columns:\n",
    "        encoded[col] = encoded[col].factorize()[0]\n",
    "    return encoded"
   ],
   "id": "73930f813f4bd78e",
   "outputs": [],
   "execution_count": 2
  },
  {
   "cell_type": "code",
   "id": "initial_id",
   "metadata": {
    "collapsed": true,
    "ExecuteTime": {
     "end_time": "2025-05-10T20:14:33.128351Z",
     "start_time": "2025-05-10T20:14:33.020597Z"
    }
   },
   "source": [
    "# Load and preprocess data\n",
    "train_df = pd.read_csv('mushroom_train.data', header=None)\n",
    "test_df = pd.read_csv('mushroom_test.data', header=None)\n",
    "\n",
    "train_encoded = encode_data(train_df)\n",
    "test_encoded = encode_data(test_df)\n",
    "\n",
    "X_train = train_encoded.iloc[:, 1:].values\n",
    "y_train = train_encoded.iloc[:, 0].values\n",
    "X_test = test_encoded.iloc[:, 1:].values\n",
    "y_test = test_encoded.iloc[:, 0].values\n",
    "\n",
    "n_features = X_train.shape[1]"
   ],
   "outputs": [],
   "execution_count": 3
  },
  {
   "metadata": {
    "ExecuteTime": {
     "end_time": "2025-05-10T20:14:40.225460Z",
     "start_time": "2025-05-10T20:14:34.214083Z"
    }
   },
   "cell_type": "code",
   "source": [
    "cmi_matrix = np.zeros((n_features, n_features))\n",
    "for i in range(n_features):\n",
    "    for j in range(i + 1, n_features):\n",
    "        cmi = 0\n",
    "        for y in np.unique(y_train):\n",
    "            mask = y_train == y\n",
    "            x_i = X_train[mask, i]\n",
    "            x_j = X_train[mask, j]\n",
    "\n",
    "            joint = pd.crosstab(x_i, x_j).values / len(x_i)\n",
    "\n",
    "            p_i = np.bincount(x_i) / len(x_i)\n",
    "            p_j = np.bincount(x_j) / len(x_j)\n",
    "\n",
    "            mi = 0\n",
    "            for xi in range(joint.shape[0]):\n",
    "                for xj in range(joint.shape[1]):\n",
    "                    if joint[xi, xj] > 0:\n",
    "                        mi += joint[xi, xj] * np.log(joint[xi, xj] / (p_i[xi] * p_j[xj] + 1e-10))\n",
    "            cmi += (np.sum(mask) / len(y_train)) * mi\n",
    "        cmi_matrix[i, j] = cmi_matrix[j, i] = cmi"
   ],
   "id": "4dfb7bb119d1e8f9",
   "outputs": [],
   "execution_count": 4
  },
  {
   "metadata": {
    "ExecuteTime": {
     "end_time": "2025-05-10T20:14:42.314617Z",
     "start_time": "2025-05-10T20:14:42.304359Z"
    }
   },
   "cell_type": "code",
   "source": [
    "def minimum_spanning_tree(neg_cmi):\n",
    "    n = neg_cmi.shape[0]\n",
    "    edges = []\n",
    "    for i in range(n):\n",
    "        for j in range(i + 1, n):\n",
    "            if neg_cmi[i, j] != 0:\n",
    "                edges.append((-neg_cmi[i, j], i, j))\n",
    "\n",
    "    edges.sort(reverse=True)\n",
    "    parent = list(range(n))\n",
    "\n",
    "    def find(u):\n",
    "        while parent[u] != u:\n",
    "            parent[u] = parent[parent[u]]\n",
    "            u = parent[u]\n",
    "        return u\n",
    "\n",
    "    mst = np.zeros((n, n))\n",
    "    for weight, u, v in edges:\n",
    "        root_u = find(u)\n",
    "        root_v = find(v)\n",
    "        if root_u != root_v:\n",
    "            mst[u, v] = -weight\n",
    "            parent[root_v] = root_u\n",
    "    return mst"
   ],
   "id": "462e849c8bbb7db5",
   "outputs": [],
   "execution_count": 5
  },
  {
   "metadata": {
    "ExecuteTime": {
     "end_time": "2025-05-10T20:14:43.453137Z",
     "start_time": "2025-05-10T20:14:43.446903Z"
    }
   },
   "cell_type": "code",
   "source": "mst = minimum_spanning_tree(-cmi_matrix)",
   "id": "f0a3079c8c452cf9",
   "outputs": [],
   "execution_count": 6
  },
  {
   "metadata": {
    "ExecuteTime": {
     "end_time": "2025-05-10T20:14:46.099209Z",
     "start_time": "2025-05-10T20:14:45.939694Z"
    }
   },
   "cell_type": "code",
   "source": [
    "mi_with_y = []\n",
    "for i in range(n_features):\n",
    "    contingency = pd.crosstab(y_train, X_train[:, i]).values\n",
    "    p_joint = contingency / contingency.sum()\n",
    "    p_y = p_joint.sum(axis=1)\n",
    "    p_x = p_joint.sum(axis=0)\n",
    "    mi = np.sum(p_joint * np.log((p_joint + 1e-10) / (np.outer(p_y, p_x) + 1e-10)))\n",
    "    mi_with_y.append(mi)\n",
    "root = np.argmax(mi_with_y)\n",
    "\n",
    "parent = np.full(n_features, -1)\n",
    "visited = set([root])\n",
    "queue = [root]\n",
    "\n",
    "while queue:\n",
    "    current = queue.pop(0)\n",
    "    neighbors = np.where(mst[current] > 0)[0]\n",
    "    for neighbor in neighbors:\n",
    "        if neighbor not in visited:\n",
    "            parent[neighbor] = current\n",
    "            visited.add(neighbor)\n",
    "            queue.append(neighbor)"
   ],
   "id": "8d332a1bf211a14f",
   "outputs": [],
   "execution_count": 7
  },
  {
   "metadata": {
    "ExecuteTime": {
     "end_time": "2025-05-10T20:14:47.171613Z",
     "start_time": "2025-05-10T20:14:47.155499Z"
    }
   },
   "cell_type": "code",
   "source": [
    "cpt = {}\n",
    "for feat in range(n_features):\n",
    "    cpt[feat] = {}\n",
    "    parent_feat = parent[feat]\n",
    "\n",
    "    for y in np.unique(y_train):\n",
    "        mask = y_train == y\n",
    "        if parent_feat == -1:  # Root node depends only on Y\n",
    "            counts = np.bincount(X_train[mask, feat], minlength=len(np.unique(X_train[:, feat])))\n",
    "            cpt[feat][y] = (counts + 1) / (counts.sum() + len(np.unique(X_train[:, feat])))\n",
    "        else:\n",
    "            parent_vals = X_train[mask, parent_feat]\n",
    "            unique_parents = np.unique(parent_vals)\n",
    "            cpt[feat][y] = {}\n",
    "            for p_val in unique_parents:\n",
    "                sub_mask = parent_vals == p_val\n",
    "                counts = np.bincount(X_train[mask, feat][sub_mask],\n",
    "                                     minlength=len(np.unique(X_train[:, feat])))\n",
    "                cpt[feat][y][p_val] = (counts + 1) / (counts.sum() + len(np.unique(X_train[:, feat])))"
   ],
   "id": "9bfb1bfd1fac3585",
   "outputs": [],
   "execution_count": 8
  },
  {
   "metadata": {
    "ExecuteTime": {
     "end_time": "2025-05-10T20:14:48.474047Z",
     "start_time": "2025-05-10T20:14:48.465157Z"
    }
   },
   "cell_type": "code",
   "source": [
    "def predict(X):\n",
    "    log_probs = []\n",
    "    for y in np.unique(y_train):\n",
    "        log_prob = np.log((np.sum(y_train == y) + 1) / (len(y_train) + len(np.unique(y_train))))\n",
    "\n",
    "        for feat in range(n_features):\n",
    "            if parent[feat] == -1:\n",
    "                prob = cpt[feat][y][X[feat]]\n",
    "            else:\n",
    "                p_val = X[parent[feat]]\n",
    "                num_categories = len(np.unique(X_train[:, feat]))\n",
    "                default_prob = np.ones(num_categories) / num_categories\n",
    "                prob = cpt[feat][y].get(p_val, default_prob)[X[feat]]\n",
    "\n",
    "            log_prob += np.log(prob + 1e-10)\n",
    "\n",
    "        log_probs.append(log_prob)\n",
    "    return np.unique(y_train)[np.argmax(log_probs)]"
   ],
   "id": "538c11016f13eadc",
   "outputs": [],
   "execution_count": 9
  },
  {
   "metadata": {
    "ExecuteTime": {
     "end_time": "2025-05-10T20:14:50.024109Z",
     "start_time": "2025-05-10T20:14:49.388590Z"
    }
   },
   "cell_type": "code",
   "source": [
    "y_pred = np.array([predict(x) for x in X_test])\n",
    "accuracy = np.mean(y_pred == y_test)\n",
    "print(f\"Chow-Liu Accuracy: {accuracy:.4f}\")"
   ],
   "id": "aeace73061c2d912",
   "outputs": [
    {
     "name": "stdout",
     "output_type": "stream",
     "text": [
      "Chow-Liu Accuracy: 0.8949\n"
     ]
    }
   ],
   "execution_count": 10
  }
 ],
 "metadata": {
  "kernelspec": {
   "display_name": "Python 3",
   "language": "python",
   "name": "python3"
  },
  "language_info": {
   "codemirror_mode": {
    "name": "ipython",
    "version": 2
   },
   "file_extension": ".py",
   "mimetype": "text/x-python",
   "name": "python",
   "nbconvert_exporter": "python",
   "pygments_lexer": "ipython2",
   "version": "2.7.6"
  }
 },
 "nbformat": 4,
 "nbformat_minor": 5
}
